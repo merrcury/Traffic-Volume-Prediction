{
  "nbformat": 4,
  "nbformat_minor": 0,
  "metadata": {
    "colab": {
      "name": "Prediction.ipynb",
      "version": "0.3.2",
      "provenance": []
    },
    "kernelspec": {
      "name": "python3",
      "display_name": "Python 3"
    }
  },
  "cells": [
    {
      "cell_type": "code",
      "metadata": {
        "id": "CtSWoVsUr73u",
        "colab_type": "code",
        "colab": {}
      },
      "source": [
        "#important libraries\n",
        "import pandas as pd\n",
        "import numpy as np\n",
        "import warnings\n",
        "warnings.filterwarnings('ignore')"
      ],
      "execution_count": 0,
      "outputs": []
    },
    {
      "cell_type": "code",
      "metadata": {
        "id": "hqqg8mYer_-a",
        "colab_type": "code",
        "colab": {
          "resources": {
            "http://localhost:8080/nbextensions/google.colab/files.js": {
              "data": "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",
              "ok": true,
              "headers": [
                [
                  "content-type",
                  "application/javascript"
                ]
              ],
              "status": 200,
              "status_text": ""
            }
          },
          "base_uri": "https://localhost:8080/",
          "height": 74
        },
        "outputId": "7a5e7d0d-2c56-4473-c6b9-86bfc6095094"
      },
      "source": [
        "from google.colab import files\n",
        "dataset = files.upload()"
      ],
      "execution_count": 2,
      "outputs": [
        {
          "output_type": "display_data",
          "data": {
            "text/html": [
              "\n",
              "     <input type=\"file\" id=\"files-a261bb2e-16f7-45ee-ac0c-a482f7661650\" name=\"files[]\" multiple disabled />\n",
              "     <output id=\"result-a261bb2e-16f7-45ee-ac0c-a482f7661650\">\n",
              "      Upload widget is only available when the cell has been executed in the\n",
              "      current browser session. Please rerun this cell to enable.\n",
              "      </output>\n",
              "      <script src=\"/nbextensions/google.colab/files.js\"></script> "
            ],
            "text/plain": [
              "<IPython.core.display.HTML object>"
            ]
          },
          "metadata": {
            "tags": []
          }
        },
        {
          "output_type": "stream",
          "text": [
            "Saving Train_4.csv to Train_4.csv\n"
          ],
          "name": "stdout"
        }
      ]
    },
    {
      "cell_type": "code",
      "metadata": {
        "id": "RUckr161sN8Y",
        "colab_type": "code",
        "colab": {}
      },
      "source": [
        "df = pd.read_csv('/content/Train_4.csv')"
      ],
      "execution_count": 0,
      "outputs": []
    },
    {
      "cell_type": "code",
      "metadata": {
        "id": "crTRgPnqszrF",
        "colab_type": "code",
        "colab": {
          "base_uri": "https://localhost:8080/",
          "height": 896
        },
        "outputId": "3677a828-3b4b-4174-e7ae-7abef98395c3"
      },
      "source": [
        "df.corr() #Correlation Matrix"
      ],
      "execution_count": 4,
      "outputs": [
        {
          "output_type": "execute_result",
          "data": {
            "text/html": [
              "<div>\n",
              "<style scoped>\n",
              "    .dataframe tbody tr th:only-of-type {\n",
              "        vertical-align: middle;\n",
              "    }\n",
              "\n",
              "    .dataframe tbody tr th {\n",
              "        vertical-align: top;\n",
              "    }\n",
              "\n",
              "    .dataframe thead th {\n",
              "        text-align: right;\n",
              "    }\n",
              "</style>\n",
              "<table border=\"1\" class=\"dataframe\">\n",
              "  <thead>\n",
              "    <tr style=\"text-align: right;\">\n",
              "      <th></th>\n",
              "      <th>is_holiday</th>\n",
              "      <th>air_pollution_index</th>\n",
              "      <th>humidity</th>\n",
              "      <th>wind_speed</th>\n",
              "      <th>wind_direction</th>\n",
              "      <th>visibility_in_miles</th>\n",
              "      <th>dew_point</th>\n",
              "      <th>temperature</th>\n",
              "      <th>rain_p_h</th>\n",
              "      <th>snow_p_h</th>\n",
              "      <th>clouds_all</th>\n",
              "      <th>weather_type</th>\n",
              "      <th>weather_description</th>\n",
              "      <th>traffic_volume</th>\n",
              "      <th>Year</th>\n",
              "      <th>Month</th>\n",
              "      <th>Day</th>\n",
              "      <th>Hour</th>\n",
              "      <th>Day_of_week</th>\n",
              "    </tr>\n",
              "  </thead>\n",
              "  <tbody>\n",
              "    <tr>\n",
              "      <th>is_holiday</th>\n",
              "      <td>1.000000e+00</td>\n",
              "      <td>0.002094</td>\n",
              "      <td>-3.021066e-07</td>\n",
              "      <td>0.000532</td>\n",
              "      <td>0.000594</td>\n",
              "      <td>-0.006134</td>\n",
              "      <td>-0.006134</td>\n",
              "      <td>-0.004707</td>\n",
              "      <td>-0.000245</td>\n",
              "      <td>-0.000898</td>\n",
              "      <td>0.002291</td>\n",
              "      <td>0.007241</td>\n",
              "      <td>0.007861</td>\n",
              "      <td>-0.044855</td>\n",
              "      <td>-0.003286</td>\n",
              "      <td>0.009352</td>\n",
              "      <td>-0.000843</td>\n",
              "      <td>-0.060337</td>\n",
              "      <td>-0.031795</td>\n",
              "    </tr>\n",
              "    <tr>\n",
              "      <th>air_pollution_index</th>\n",
              "      <td>2.094148e-03</td>\n",
              "      <td>1.000000</td>\n",
              "      <td>9.442761e-04</td>\n",
              "      <td>-0.003600</td>\n",
              "      <td>-0.001928</td>\n",
              "      <td>0.001730</td>\n",
              "      <td>0.001730</td>\n",
              "      <td>0.006580</td>\n",
              "      <td>0.000510</td>\n",
              "      <td>0.007683</td>\n",
              "      <td>-0.007496</td>\n",
              "      <td>-0.002927</td>\n",
              "      <td>0.009067</td>\n",
              "      <td>-0.000009</td>\n",
              "      <td>-0.007850</td>\n",
              "      <td>0.007323</td>\n",
              "      <td>0.010243</td>\n",
              "      <td>0.003463</td>\n",
              "      <td>0.000838</td>\n",
              "    </tr>\n",
              "    <tr>\n",
              "      <th>humidity</th>\n",
              "      <td>-3.021066e-07</td>\n",
              "      <td>0.000944</td>\n",
              "      <td>1.000000e+00</td>\n",
              "      <td>-0.146912</td>\n",
              "      <td>-0.050006</td>\n",
              "      <td>0.004856</td>\n",
              "      <td>0.004856</td>\n",
              "      <td>0.037503</td>\n",
              "      <td>-0.013277</td>\n",
              "      <td>0.016852</td>\n",
              "      <td>0.005761</td>\n",
              "      <td>0.032887</td>\n",
              "      <td>0.018935</td>\n",
              "      <td>0.022977</td>\n",
              "      <td>-0.041755</td>\n",
              "      <td>0.158445</td>\n",
              "      <td>0.061190</td>\n",
              "      <td>0.003046</td>\n",
              "      <td>-0.010471</td>\n",
              "    </tr>\n",
              "    <tr>\n",
              "      <th>wind_speed</th>\n",
              "      <td>5.320423e-04</td>\n",
              "      <td>-0.003600</td>\n",
              "      <td>-1.469122e-01</td>\n",
              "      <td>1.000000</td>\n",
              "      <td>0.188301</td>\n",
              "      <td>-0.005117</td>\n",
              "      <td>-0.005117</td>\n",
              "      <td>-0.057985</td>\n",
              "      <td>0.001508</td>\n",
              "      <td>-0.003643</td>\n",
              "      <td>-0.003953</td>\n",
              "      <td>-0.015747</td>\n",
              "      <td>-0.038240</td>\n",
              "      <td>0.001526</td>\n",
              "      <td>0.088887</td>\n",
              "      <td>-0.096616</td>\n",
              "      <td>0.008019</td>\n",
              "      <td>0.003964</td>\n",
              "      <td>-0.018999</td>\n",
              "    </tr>\n",
              "    <tr>\n",
              "      <th>wind_direction</th>\n",
              "      <td>5.937362e-04</td>\n",
              "      <td>-0.001928</td>\n",
              "      <td>-5.000575e-02</td>\n",
              "      <td>0.188301</td>\n",
              "      <td>1.000000</td>\n",
              "      <td>-0.002278</td>\n",
              "      <td>-0.002278</td>\n",
              "      <td>-0.048054</td>\n",
              "      <td>0.002394</td>\n",
              "      <td>0.004445</td>\n",
              "      <td>0.024359</td>\n",
              "      <td>0.016793</td>\n",
              "      <td>-0.001341</td>\n",
              "      <td>0.007366</td>\n",
              "      <td>0.009535</td>\n",
              "      <td>0.058677</td>\n",
              "      <td>-0.013207</td>\n",
              "      <td>0.005313</td>\n",
              "      <td>-0.019179</td>\n",
              "    </tr>\n",
              "    <tr>\n",
              "      <th>visibility_in_miles</th>\n",
              "      <td>-6.133781e-03</td>\n",
              "      <td>0.001730</td>\n",
              "      <td>4.855529e-03</td>\n",
              "      <td>-0.005117</td>\n",
              "      <td>-0.002278</td>\n",
              "      <td>1.000000</td>\n",
              "      <td>1.000000</td>\n",
              "      <td>0.002724</td>\n",
              "      <td>-0.009105</td>\n",
              "      <td>-0.002168</td>\n",
              "      <td>-0.003313</td>\n",
              "      <td>0.004356</td>\n",
              "      <td>0.005392</td>\n",
              "      <td>0.001492</td>\n",
              "      <td>-0.001774</td>\n",
              "      <td>-0.003402</td>\n",
              "      <td>0.000132</td>\n",
              "      <td>0.000128</td>\n",
              "      <td>0.004879</td>\n",
              "    </tr>\n",
              "    <tr>\n",
              "      <th>dew_point</th>\n",
              "      <td>-6.133781e-03</td>\n",
              "      <td>0.001730</td>\n",
              "      <td>4.855529e-03</td>\n",
              "      <td>-0.005117</td>\n",
              "      <td>-0.002278</td>\n",
              "      <td>1.000000</td>\n",
              "      <td>1.000000</td>\n",
              "      <td>0.002724</td>\n",
              "      <td>-0.009105</td>\n",
              "      <td>-0.002168</td>\n",
              "      <td>-0.003313</td>\n",
              "      <td>0.004356</td>\n",
              "      <td>0.005392</td>\n",
              "      <td>0.001492</td>\n",
              "      <td>-0.001774</td>\n",
              "      <td>-0.003402</td>\n",
              "      <td>0.000132</td>\n",
              "      <td>0.000128</td>\n",
              "      <td>0.004879</td>\n",
              "    </tr>\n",
              "    <tr>\n",
              "      <th>temperature</th>\n",
              "      <td>-4.707401e-03</td>\n",
              "      <td>0.006580</td>\n",
              "      <td>3.750258e-02</td>\n",
              "      <td>-0.057985</td>\n",
              "      <td>-0.048054</td>\n",
              "      <td>0.002724</td>\n",
              "      <td>0.002724</td>\n",
              "      <td>1.000000</td>\n",
              "      <td>0.010297</td>\n",
              "      <td>-0.016147</td>\n",
              "      <td>-0.121615</td>\n",
              "      <td>-0.113663</td>\n",
              "      <td>0.049984</td>\n",
              "      <td>0.136161</td>\n",
              "      <td>0.090984</td>\n",
              "      <td>0.229044</td>\n",
              "      <td>0.016539</td>\n",
              "      <td>0.122892</td>\n",
              "      <td>-0.010034</td>\n",
              "    </tr>\n",
              "    <tr>\n",
              "      <th>rain_p_h</th>\n",
              "      <td>-2.450698e-04</td>\n",
              "      <td>0.000510</td>\n",
              "      <td>-1.327706e-02</td>\n",
              "      <td>0.001508</td>\n",
              "      <td>0.002394</td>\n",
              "      <td>-0.009105</td>\n",
              "      <td>-0.009105</td>\n",
              "      <td>0.010297</td>\n",
              "      <td>1.000000</td>\n",
              "      <td>-0.000141</td>\n",
              "      <td>0.005592</td>\n",
              "      <td>0.002932</td>\n",
              "      <td>0.018171</td>\n",
              "      <td>0.006494</td>\n",
              "      <td>0.005148</td>\n",
              "      <td>0.001223</td>\n",
              "      <td>-0.002986</td>\n",
              "      <td>0.004517</td>\n",
              "      <td>-0.009007</td>\n",
              "    </tr>\n",
              "    <tr>\n",
              "      <th>snow_p_h</th>\n",
              "      <td>-8.983583e-04</td>\n",
              "      <td>0.007683</td>\n",
              "      <td>1.685205e-02</td>\n",
              "      <td>-0.003643</td>\n",
              "      <td>0.004445</td>\n",
              "      <td>-0.002168</td>\n",
              "      <td>-0.002168</td>\n",
              "      <td>-0.016147</td>\n",
              "      <td>-0.000141</td>\n",
              "      <td>1.000000</td>\n",
              "      <td>0.028005</td>\n",
              "      <td>0.033337</td>\n",
              "      <td>0.010343</td>\n",
              "      <td>-0.002185</td>\n",
              "      <td>0.010400</td>\n",
              "      <td>0.018475</td>\n",
              "      <td>0.015768</td>\n",
              "      <td>0.010056</td>\n",
              "      <td>-0.013703</td>\n",
              "    </tr>\n",
              "    <tr>\n",
              "      <th>clouds_all</th>\n",
              "      <td>2.290940e-03</td>\n",
              "      <td>-0.007496</td>\n",
              "      <td>5.760651e-03</td>\n",
              "      <td>-0.003953</td>\n",
              "      <td>0.024359</td>\n",
              "      <td>-0.003313</td>\n",
              "      <td>-0.003313</td>\n",
              "      <td>-0.121615</td>\n",
              "      <td>0.005592</td>\n",
              "      <td>0.028005</td>\n",
              "      <td>1.000000</td>\n",
              "      <td>0.185114</td>\n",
              "      <td>-0.065338</td>\n",
              "      <td>0.044466</td>\n",
              "      <td>-0.089866</td>\n",
              "      <td>-0.035576</td>\n",
              "      <td>0.059020</td>\n",
              "      <td>0.021290</td>\n",
              "      <td>-0.041866</td>\n",
              "    </tr>\n",
              "    <tr>\n",
              "      <th>weather_type</th>\n",
              "      <td>7.240770e-03</td>\n",
              "      <td>-0.002927</td>\n",
              "      <td>3.288679e-02</td>\n",
              "      <td>-0.015747</td>\n",
              "      <td>0.016793</td>\n",
              "      <td>0.004356</td>\n",
              "      <td>0.004356</td>\n",
              "      <td>-0.113663</td>\n",
              "      <td>0.002932</td>\n",
              "      <td>0.033337</td>\n",
              "      <td>0.185114</td>\n",
              "      <td>1.000000</td>\n",
              "      <td>0.572825</td>\n",
              "      <td>-0.065609</td>\n",
              "      <td>0.061543</td>\n",
              "      <td>0.034133</td>\n",
              "      <td>-0.000956</td>\n",
              "      <td>-0.081924</td>\n",
              "      <td>-0.024444</td>\n",
              "    </tr>\n",
              "    <tr>\n",
              "      <th>weather_description</th>\n",
              "      <td>7.860773e-03</td>\n",
              "      <td>0.009067</td>\n",
              "      <td>1.893550e-02</td>\n",
              "      <td>-0.038240</td>\n",
              "      <td>-0.001341</td>\n",
              "      <td>0.005392</td>\n",
              "      <td>0.005392</td>\n",
              "      <td>0.049984</td>\n",
              "      <td>0.018171</td>\n",
              "      <td>0.010343</td>\n",
              "      <td>-0.065338</td>\n",
              "      <td>0.572825</td>\n",
              "      <td>1.000000</td>\n",
              "      <td>-0.020095</td>\n",
              "      <td>0.075277</td>\n",
              "      <td>0.085011</td>\n",
              "      <td>0.010888</td>\n",
              "      <td>-0.029113</td>\n",
              "      <td>-0.029749</td>\n",
              "    </tr>\n",
              "    <tr>\n",
              "      <th>traffic_volume</th>\n",
              "      <td>-4.485538e-02</td>\n",
              "      <td>-0.000009</td>\n",
              "      <td>2.297738e-02</td>\n",
              "      <td>0.001526</td>\n",
              "      <td>0.007366</td>\n",
              "      <td>0.001492</td>\n",
              "      <td>0.001492</td>\n",
              "      <td>0.136161</td>\n",
              "      <td>0.006494</td>\n",
              "      <td>-0.002185</td>\n",
              "      <td>0.044466</td>\n",
              "      <td>-0.065609</td>\n",
              "      <td>-0.020095</td>\n",
              "      <td>1.000000</td>\n",
              "      <td>-0.002594</td>\n",
              "      <td>-0.011304</td>\n",
              "      <td>-0.012332</td>\n",
              "      <td>0.350865</td>\n",
              "      <td>-0.149814</td>\n",
              "    </tr>\n",
              "    <tr>\n",
              "      <th>Year</th>\n",
              "      <td>-3.286033e-03</td>\n",
              "      <td>-0.007850</td>\n",
              "      <td>-4.175490e-02</td>\n",
              "      <td>0.088887</td>\n",
              "      <td>0.009535</td>\n",
              "      <td>-0.001774</td>\n",
              "      <td>-0.001774</td>\n",
              "      <td>0.090984</td>\n",
              "      <td>0.005148</td>\n",
              "      <td>0.010400</td>\n",
              "      <td>-0.089866</td>\n",
              "      <td>0.061543</td>\n",
              "      <td>0.075277</td>\n",
              "      <td>-0.002594</td>\n",
              "      <td>1.000000</td>\n",
              "      <td>-0.229870</td>\n",
              "      <td>-0.015896</td>\n",
              "      <td>-0.008441</td>\n",
              "      <td>-0.000929</td>\n",
              "    </tr>\n",
              "    <tr>\n",
              "      <th>Month</th>\n",
              "      <td>9.351555e-03</td>\n",
              "      <td>0.007323</td>\n",
              "      <td>1.584446e-01</td>\n",
              "      <td>-0.096616</td>\n",
              "      <td>0.058677</td>\n",
              "      <td>-0.003402</td>\n",
              "      <td>-0.003402</td>\n",
              "      <td>0.229044</td>\n",
              "      <td>0.001223</td>\n",
              "      <td>0.018475</td>\n",
              "      <td>-0.035576</td>\n",
              "      <td>0.034133</td>\n",
              "      <td>0.085011</td>\n",
              "      <td>-0.011304</td>\n",
              "      <td>-0.229870</td>\n",
              "      <td>1.000000</td>\n",
              "      <td>0.018880</td>\n",
              "      <td>0.006036</td>\n",
              "      <td>-0.001446</td>\n",
              "    </tr>\n",
              "    <tr>\n",
              "      <th>Day</th>\n",
              "      <td>-8.434129e-04</td>\n",
              "      <td>0.010243</td>\n",
              "      <td>6.118975e-02</td>\n",
              "      <td>0.008019</td>\n",
              "      <td>-0.013207</td>\n",
              "      <td>0.000132</td>\n",
              "      <td>0.000132</td>\n",
              "      <td>0.016539</td>\n",
              "      <td>-0.002986</td>\n",
              "      <td>0.015768</td>\n",
              "      <td>0.059020</td>\n",
              "      <td>-0.000956</td>\n",
              "      <td>0.010888</td>\n",
              "      <td>-0.012332</td>\n",
              "      <td>-0.015896</td>\n",
              "      <td>0.018880</td>\n",
              "      <td>1.000000</td>\n",
              "      <td>-0.007081</td>\n",
              "      <td>0.001333</td>\n",
              "    </tr>\n",
              "    <tr>\n",
              "      <th>Hour</th>\n",
              "      <td>-6.033693e-02</td>\n",
              "      <td>0.003463</td>\n",
              "      <td>3.046493e-03</td>\n",
              "      <td>0.003964</td>\n",
              "      <td>0.005313</td>\n",
              "      <td>0.000128</td>\n",
              "      <td>0.000128</td>\n",
              "      <td>0.122892</td>\n",
              "      <td>0.004517</td>\n",
              "      <td>0.010056</td>\n",
              "      <td>0.021290</td>\n",
              "      <td>-0.081924</td>\n",
              "      <td>-0.029113</td>\n",
              "      <td>0.350865</td>\n",
              "      <td>-0.008441</td>\n",
              "      <td>0.006036</td>\n",
              "      <td>-0.007081</td>\n",
              "      <td>1.000000</td>\n",
              "      <td>-0.000460</td>\n",
              "    </tr>\n",
              "    <tr>\n",
              "      <th>Day_of_week</th>\n",
              "      <td>-3.179465e-02</td>\n",
              "      <td>0.000838</td>\n",
              "      <td>-1.047149e-02</td>\n",
              "      <td>-0.018999</td>\n",
              "      <td>-0.019179</td>\n",
              "      <td>0.004879</td>\n",
              "      <td>0.004879</td>\n",
              "      <td>-0.010034</td>\n",
              "      <td>-0.009007</td>\n",
              "      <td>-0.013703</td>\n",
              "      <td>-0.041866</td>\n",
              "      <td>-0.024444</td>\n",
              "      <td>-0.029749</td>\n",
              "      <td>-0.149814</td>\n",
              "      <td>-0.000929</td>\n",
              "      <td>-0.001446</td>\n",
              "      <td>0.001333</td>\n",
              "      <td>-0.000460</td>\n",
              "      <td>1.000000</td>\n",
              "    </tr>\n",
              "  </tbody>\n",
              "</table>\n",
              "</div>"
            ],
            "text/plain": [
              "                       is_holiday  air_pollution_index  ...      Hour  Day_of_week\n",
              "is_holiday           1.000000e+00             0.002094  ... -0.060337    -0.031795\n",
              "air_pollution_index  2.094148e-03             1.000000  ...  0.003463     0.000838\n",
              "humidity            -3.021066e-07             0.000944  ...  0.003046    -0.010471\n",
              "wind_speed           5.320423e-04            -0.003600  ...  0.003964    -0.018999\n",
              "wind_direction       5.937362e-04            -0.001928  ...  0.005313    -0.019179\n",
              "visibility_in_miles -6.133781e-03             0.001730  ...  0.000128     0.004879\n",
              "dew_point           -6.133781e-03             0.001730  ...  0.000128     0.004879\n",
              "temperature         -4.707401e-03             0.006580  ...  0.122892    -0.010034\n",
              "rain_p_h            -2.450698e-04             0.000510  ...  0.004517    -0.009007\n",
              "snow_p_h            -8.983583e-04             0.007683  ...  0.010056    -0.013703\n",
              "clouds_all           2.290940e-03            -0.007496  ...  0.021290    -0.041866\n",
              "weather_type         7.240770e-03            -0.002927  ... -0.081924    -0.024444\n",
              "weather_description  7.860773e-03             0.009067  ... -0.029113    -0.029749\n",
              "traffic_volume      -4.485538e-02            -0.000009  ...  0.350865    -0.149814\n",
              "Year                -3.286033e-03            -0.007850  ... -0.008441    -0.000929\n",
              "Month                9.351555e-03             0.007323  ...  0.006036    -0.001446\n",
              "Day                 -8.434129e-04             0.010243  ... -0.007081     0.001333\n",
              "Hour                -6.033693e-02             0.003463  ...  1.000000    -0.000460\n",
              "Day_of_week         -3.179465e-02             0.000838  ... -0.000460     1.000000\n",
              "\n",
              "[19 rows x 19 columns]"
            ]
          },
          "metadata": {
            "tags": []
          },
          "execution_count": 4
        }
      ]
    },
    {
      "cell_type": "code",
      "metadata": {
        "id": "4a8avEMVs2YG",
        "colab_type": "code",
        "colab": {}
      },
      "source": [
        "del df['date_time'] \n",
        "del df['dew_point'] # Corr:1 with visibility in miles. That's why, deleted"
      ],
      "execution_count": 0,
      "outputs": []
    },
    {
      "cell_type": "code",
      "metadata": {
        "id": "IM3_p138s49-",
        "colab_type": "code",
        "colab": {}
      },
      "source": [
        "cols = df.columns\n",
        "cols = list(cols)\n",
        "del cols[12]\n",
        "cols.append('traffic_volume') #Shifting traffic Volume Column to the last for future ease. \n",
        "df = df[cols]"
      ],
      "execution_count": 0,
      "outputs": []
    },
    {
      "cell_type": "code",
      "metadata": {
        "id": "ucVN_AVqs7Mz",
        "colab_type": "code",
        "colab": {}
      },
      "source": [
        "#Not Proving to be great column for use. So, Dropped. Consult Corr. Matrix\n",
        "del df['Year']\n",
        "del df['Month']\n",
        "del df['Day']\n",
        "del df['weather_description']\n",
        "del df['wind_direction']"
      ],
      "execution_count": 0,
      "outputs": []
    },
    {
      "cell_type": "code",
      "metadata": {
        "id": "XKYVa58Gs-sN",
        "colab_type": "code",
        "colab": {
          "base_uri": "https://localhost:8080/",
          "height": 34
        },
        "outputId": "72742054-ceff-4715-8bf0-a8bef43faa16"
      },
      "source": [
        "df.shape"
      ],
      "execution_count": 8,
      "outputs": [
        {
          "output_type": "execute_result",
          "data": {
            "text/plain": [
              "(28589, 13)"
            ]
          },
          "metadata": {
            "tags": []
          },
          "execution_count": 8
        }
      ]
    },
    {
      "cell_type": "markdown",
      "metadata": {
        "id": "QwJUfpzztGzV",
        "colab_type": "text"
      },
      "source": [
        "### SCALING"
      ]
    },
    {
      "cell_type": "code",
      "metadata": {
        "id": "Liha2PrdtAsj",
        "colab_type": "code",
        "colab": {}
      },
      "source": [
        "from sklearn.preprocessing import MinMaxScaler #Importin Scaler"
      ],
      "execution_count": 0,
      "outputs": []
    },
    {
      "cell_type": "code",
      "metadata": {
        "id": "omH3HEaEtM7f",
        "colab_type": "code",
        "colab": {}
      },
      "source": [
        "X = df.iloc[:, : -1].values\n",
        "y = df.iloc[:, 12].values"
      ],
      "execution_count": 0,
      "outputs": []
    },
    {
      "cell_type": "code",
      "metadata": {
        "id": "BH11eU0ctO86",
        "colab_type": "code",
        "colab": {}
      },
      "source": [
        "scaler_x = MinMaxScaler()\n",
        "scaler_y = MinMaxScaler()"
      ],
      "execution_count": 0,
      "outputs": []
    },
    {
      "cell_type": "code",
      "metadata": {
        "id": "6ZyGFD-vtRO2",
        "colab_type": "code",
        "colab": {}
      },
      "source": [
        "X = scaler_x.fit_transform(X)\n",
        "y = y.reshape(-1,1) #reshaping it into 2D\n",
        "y = scaler_y.fit_transform(y)"
      ],
      "execution_count": 0,
      "outputs": []
    },
    {
      "cell_type": "code",
      "metadata": {
        "id": "dsSvvltTtaUH",
        "colab_type": "code",
        "colab": {}
      },
      "source": [
        "from sklearn.model_selection import train_test_split"
      ],
      "execution_count": 0,
      "outputs": []
    },
    {
      "cell_type": "code",
      "metadata": {
        "id": "KxOLc7jmtljl",
        "colab_type": "code",
        "colab": {}
      },
      "source": [
        " X_train, X_test, y_train, y_test = train_test_split(X, y, test_size=0.25)"
      ],
      "execution_count": 0,
      "outputs": []
    },
    {
      "cell_type": "code",
      "metadata": {
        "id": "PZxrrqjBvzRv",
        "colab_type": "code",
        "colab": {
          "base_uri": "https://localhost:8080/",
          "height": 136
        },
        "outputId": "6efcdc9e-6439-42e5-8b85-c88c72a6d6e5"
      },
      "source": [
        "from sklearn.ensemble import RandomForestRegressor\n",
        "regressor = RandomForestRegressor(n_estimators = 3500, max_depth = 9,random_state = 0)#3500 decision tress\n",
        "regressor.fit(X_train, y_train)"
      ],
      "execution_count": 15,
      "outputs": [
        {
          "output_type": "execute_result",
          "data": {
            "text/plain": [
              "RandomForestRegressor(bootstrap=True, criterion='mse', max_depth=9,\n",
              "                      max_features='auto', max_leaf_nodes=None,\n",
              "                      min_impurity_decrease=0.0, min_impurity_split=None,\n",
              "                      min_samples_leaf=1, min_samples_split=2,\n",
              "                      min_weight_fraction_leaf=0.0, n_estimators=3500,\n",
              "                      n_jobs=None, oob_score=False, random_state=0, verbose=0,\n",
              "                      warm_start=False)"
            ]
          },
          "metadata": {
            "tags": []
          },
          "execution_count": 15
        }
      ]
    },
    {
      "cell_type": "code",
      "metadata": {
        "id": "4NWj4_33wMNO",
        "colab_type": "code",
        "colab": {}
      },
      "source": [
        "y_pred = regressor.predict(X_test) #prediction\n",
        "y_pred = y_pred.reshape(-1,1)\n",
        "y_pred = scaler_y.inverse_transform(y_pred) #conversion\n",
        "y_pred = y_pred.astype(int) #absolute values\n",
        "y_test = scaler_y.inverse_transform(y_test) #conversion"
      ],
      "execution_count": 0,
      "outputs": []
    },
    {
      "cell_type": "code",
      "metadata": {
        "id": "cGmOsoexw16A",
        "colab_type": "code",
        "colab": {
          "base_uri": "https://localhost:8080/",
          "height": 34
        },
        "outputId": "6845dc50-c763-4059-a5e9-c35474e5ea60"
      },
      "source": [
        "from sklearn.metrics import mean_squared_log_error\n",
        "mean_squared_log_error(y_test,y_pred)"
      ],
      "execution_count": 17,
      "outputs": [
        {
          "output_type": "execute_result",
          "data": {
            "text/plain": [
              "0.09856798047342186"
            ]
          },
          "metadata": {
            "tags": []
          },
          "execution_count": 17
        }
      ]
    }
  ]
}